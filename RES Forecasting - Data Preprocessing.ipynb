{
 "cells": [
  {
   "cell_type": "markdown",
   "metadata": {},
   "source": [
    "# RES Forecasting - Data Preprocessing\n",
    "\n",
    "The Greek RES dataset combines information from different sources. It contains geolocation, weather and RES energy production data of the top contributors of wind and solar energy that contribute the 20% of the RES power in the Greek energy grid. The weather data were collected from a weather forecast API and represent the last generated forecast for each installation.\n",
    "\n",
    "The data were collected from the following sources:\n",
    "\n",
    "* RES energy production from [ENTSO-E](https://transparency.entsoe.eu/load-domain/r2/totalLoadR2/show)\n",
    "* Weather data captured using the [Stormglass API](https://docs.stormglass.io/#/weather?id=point-request)\n",
    "* Wind turbine and PV installations geolocation data, for the locations that aquired operation licence as found in [Regulatory Authority for Energy (RAE)](https://geo.rae.gr/)\n",
    "\n",
    "More information regarding energy licencing http://www.opengov.gr/minenv/?p=1031"
   ]
  },
  {
   "cell_type": "code",
   "execution_count": null,
   "metadata": {},
   "outputs": [],
   "source": [
    "from imports import *\n",
    "\n",
    "data_eval = Evaluation()"
   ]
  },
  {
   "cell_type": "markdown",
   "metadata": {},
   "source": [
    "## 1. Data Presentation\n",
    "### 1.1 Data exploration \n",
    "#### 1.1.1 Data Loading \n",
    "\n",
    "Loading the data combined from the different data sources. The wind energy dataset contains the weather variable from the top wind energy contributors and the agreggated wind energy production from 2017 to 2020."
   ]
  },
  {
   "cell_type": "code",
   "execution_count": null,
   "metadata": {},
   "outputs": [],
   "source": [
    "# Load solar data\n",
    "solar_energy_path = os.path.join('resources', 'raw_data', 'solar_energy_data.csv')\n",
    "solar_energy_df = pd.read_csv(solar_energy_path, parse_dates=['time'], date_parser=lambda col: pd.to_datetime(col, utc=True),)\n",
    "solar_energy_df.loc[:, 'time'] = solar_energy_df.time.dt.tz_convert('CET')\n",
    "\n",
    "solar_energy_df.sort_values(['id1', 'time'], inplace=True)\n",
    "solar_energy_df.set_index('id1', inplace=True)\n",
    "solar_energy_df.head()"
   ]
  },
  {
   "cell_type": "code",
   "execution_count": null,
   "metadata": {
    "scrolled": false
   },
   "outputs": [],
   "source": [
    "# Load Data wind data\n",
    "wind_energy_path = os.path.join('resources', 'raw_data', 'wind_energy_data.csv')\n",
    "wind_energy_df = pd.read_csv(wind_energy_path, parse_dates=['time'], date_parser=lambda col: pd.to_datetime(col, utc=True),)\n",
    "wind_energy_df.loc[:, 'time'] = wind_energy_df.time.dt.tz_convert('CET')\n",
    "\n",
    "wind_energy_df.sort_values(['id1', 'time'], inplace=True)\n",
    "wind_energy_df.set_index('id1', inplace=True)\n",
    "wind_energy_df.head()"
   ]
  },
  {
   "cell_type": "code",
   "execution_count": null,
   "metadata": {},
   "outputs": [],
   "source": [
    "config = json.loads(open('config.json', 'r').read())\n",
    "weather_features = [var for var in config['weather_variables'] if var in wind_energy_df.columns]"
   ]
  },
  {
   "cell_type": "code",
   "execution_count": null,
   "metadata": {},
   "outputs": [],
   "source": [
    "# Assert data integrity\n",
    "for col in wind_energy_df.columns:\n",
    "   assert(len(wind_energy_df[col].dropna()) == len(wind_energy_df.index))\n",
    "   \n",
    "for col in solar_energy_df.columns:\n",
    "   assert(len(solar_energy_df[col].dropna()) == len(solar_energy_df.index))\n"
   ]
  },
  {
   "cell_type": "markdown",
   "metadata": {},
   "source": [
    "#### 1.1.2 Top Greek RES Contributors Map\n",
    "\n",
    "We focus on the top RES energy producers that contribute the 20% of the total wind and solar energy generation. We present all the installations and highlight the highest contributors"
   ]
  },
  {
   "cell_type": "code",
   "execution_count": null,
   "metadata": {},
   "outputs": [],
   "source": [
    "# Loading map config\n",
    "# with open(os.path.join('resources', 'map_config', 'res_map_config.json'), 'r') as res_map_config:\n",
    "    # res_map_config = json.loads(res_map_config.read())"
   ]
  },
  {
   "cell_type": "code",
   "execution_count": null,
   "metadata": {},
   "outputs": [],
   "source": [
    "# from keplergl import KeplerGl\n",
    "\n",
    "# res_map = KeplerGl(height=700, width=400)\n",
    "# res_map.add_data(wind_energy_df.append(solar_energy_df), 'Top Greek RES Parks')\n",
    "# res_map.config = res_map_config\n",
    "# res_map"
   ]
  },
  {
   "cell_type": "code",
   "execution_count": null,
   "metadata": {},
   "outputs": [],
   "source": [
    "# # Saving map style\n",
    "# with open('map_config/res_map_config.json', 'w') as res_map_config:\n",
    "#     json.dump(res_map.config, res_map_config)"
   ]
  },
  {
   "cell_type": "markdown",
   "metadata": {},
   "source": [
    "#### 1.1.2 Data combination\n",
    "\n",
    "For each energy type we aggregate the weather forecasts from the different locations to form a combined dataset "
   ]
  },
  {
   "cell_type": "code",
   "execution_count": null,
   "metadata": {},
   "outputs": [],
   "source": [
    "agg_wind_energy_df = wind_energy_df.reset_index().groupby('time').mean().copy()\n",
    "agg_wind_energy_df.drop(columns=['id1', 'representative_lat', 'representative_lon'], inplace=True)\n",
    "agg_wind_energy_df.tail()"
   ]
  },
  {
   "cell_type": "code",
   "execution_count": null,
   "metadata": {},
   "outputs": [],
   "source": [
    "agg_solar_energy_df = solar_energy_df.reset_index().groupby('time').mean().copy()\n",
    "agg_solar_energy_df.drop(columns=['id1', 'representative_lat', 'representative_lon'], inplace=True)\n",
    "agg_solar_energy_df.tail()"
   ]
  },
  {
   "cell_type": "markdown",
   "metadata": {},
   "source": [
    "### 1.2 Feature engineering\n",
    "\n",
    "Temporal features are added and are divided in cyclical and discrete. The cyclical features such as `hour`, `month`, `day of week`, `day of month`, `day of year` are translated to polar coordinates, whareas the non-cyclical features such as `year` and `season` are added as one-hot-encoding. During the feature engineering stage, the dataset undergoes the following steps:\n",
    "* temporal feature calculation\n",
    "* polar and one-hot encoding of temporal features\n",
    "* addition of last day's energy output as feature\n",
    "* target column normalization"
   ]
  },
  {
   "cell_type": "code",
   "execution_count": null,
   "metadata": {},
   "outputs": [],
   "source": [
    "# Feature sets\n",
    "temporal_features = ['hour', 'day', 'weekday_index', 'dayofyear', 'month', 'year', 'season', 'timeofday']\n",
    "cyclical_features = ['windDirection', 'hour', 'month', 'day', 'dayofyear', 'weekday_index']\n",
    "weather_features = list(set(weather_features) - set(['windDirection']))\n",
    "one_hot_features = ['year', 'season', 'timeofday']\n",
    "\n",
    "# time of day calculation\n",
    "def get_time_of_day(instance):\n",
    "   instance = pd.to_datetime(instance)\n",
    "   location = LocationInfo(\"Athens\", \"Greece\").observer\n",
    "   phases = sun(location, date=instance)\n",
    "   phases = {k:pd.to_datetime(phases[k]).tz_convert('CET')  for k in phases.keys()}\n",
    "   if phases['dawn'] < instance <= phases['sunrise']:\n",
    "      return 'sunrise'\n",
    "   elif phases['sunrise'] < instance <= phases['noon']:\n",
    "      return 'morning'\n",
    "   elif phases['noon'] < instance <= phases['sunset']:\n",
    "      return 'noon'\n",
    "   elif phases['sunset'] < instance <= phases['dusk']:\n",
    "      return 'sunset'\n",
    "   else:\n",
    "      return 'night'\n",
    "\n",
    "# season calculation\n",
    "def season_calc(month):\n",
    "   if month in [6,7,8,9,10]:\n",
    "     return \"summer\"\n",
    "   else:\n",
    "     return \"winter\"  \n",
    "   \n",
    "def add_temporal_features(df):\n",
    "   df['hour'] = df.index.hour\n",
    "   df['datetime'] = df.index\n",
    "   df['month'] = df.index.month\n",
    "   df['year'] = df.index.year\n",
    "   df['day'] = df.index.day   \n",
    "   df['dayofyear'] = df.index.dayofyear\n",
    "   df['weekday_index'] = df.index.dayofweek\n",
    "   df['season'] = df['month'].apply( season_calc)\n",
    "   df['timeofday'] = df['datetime'].apply(get_time_of_day)\n",
    "   return df.drop(columns=['datetime'])\n",
    "\n",
    "\n",
    "agg_wind_energy_df = agg_wind_energy_df.pipe(add_temporal_features)\n",
    "print(agg_wind_energy_df.columns)\n",
    "\n",
    "agg_solar_energy_df = agg_solar_energy_df.pipe(add_temporal_features)\n",
    "print(agg_solar_energy_df.columns)"
   ]
  },
  {
   "cell_type": "markdown",
   "metadata": {},
   "source": [
    "By exploring the temporal patterns of solar energy it becomes evident that there is strong seasonality during daytime and summer months. In addition, there is a trend of increasing solar energy production thoughout the years and from winter to summer."
   ]
  },
  {
   "cell_type": "code",
   "execution_count": null,
   "metadata": {},
   "outputs": [],
   "source": [
    "fig, ax = plt.subplots(len(temporal_features), 1, figsize = (8, 15))\n",
    "for i,feature in enumerate(temporal_features):\n",
    "   _ = sns.lineplot(x=feature, \n",
    "                    y='Solar energy (MW)', \n",
    "                    data=agg_solar_energy_df,\n",
    "                    ax=ax[i]).set_title('%s aggregation of solar energy production' % feature)\n",
    "plt.tight_layout()"
   ]
  },
  {
   "cell_type": "markdown",
   "metadata": {},
   "source": [
    "Exploring the temporal patterns of wind energy production it becomes obvious that there are no seasonal patterns and this is evidence of the intermittent nature of wind elements. In addition, there is a trend of increasing wind energy production thoughout the years and a decrease from winter to summer."
   ]
  },
  {
   "cell_type": "code",
   "execution_count": null,
   "metadata": {},
   "outputs": [],
   "source": [
    "fig, ax = plt.subplots(len(temporal_features), 1, figsize = (8, 15))\n",
    "for i,feature in enumerate(temporal_features):\n",
    "   _ = sns.lineplot(x=feature, \n",
    "                    y='Wind energy (MW)', \n",
    "                    data=agg_wind_energy_df,\n",
    "                    ax=ax[i]).set_title('%s aggregation of wind energy production' % feature)\n",
    "plt.tight_layout()"
   ]
  },
  {
   "cell_type": "code",
   "execution_count": null,
   "metadata": {},
   "outputs": [],
   "source": [
    "data_eval.plot_corr_heatmap(agg_solar_energy_df, weather_features + ['Solar energy (MW)'])\n",
    "agg_solar_energy_df.tail()"
   ]
  },
  {
   "cell_type": "code",
   "execution_count": null,
   "metadata": {},
   "outputs": [],
   "source": [
    "data_eval.plot_corr_heatmap(agg_wind_energy_df, weather_features + ['Wind energy (MW)'])\n",
    "agg_wind_energy_df.tail()"
   ]
  },
  {
   "cell_type": "code",
   "execution_count": null,
   "metadata": {},
   "outputs": [],
   "source": [
    "_ = plt.figure(figsize=(12, 8))\n",
    "ax = sns.heatmap(agg_solar_energy_df.pivot_table(values='Solar energy (MW)',\n",
    "                                                 index='hour', \n",
    "                                                 columns = 'month', \n",
    "                                                 aggfunc = 'mean').sort_index(ascending = False),\n",
    "                 cmap='OrRd')"
   ]
  },
  {
   "cell_type": "code",
   "execution_count": null,
   "metadata": {},
   "outputs": [],
   "source": [
    "# sns.set(font_scale = 2.5)\n",
    "_ = plt.figure(figsize=(12, 8))\n",
    "ax = sns.heatmap(agg_wind_energy_df.pivot_table(values='Wind energy (MW)',\n",
    "                                                 index='hour', \n",
    "                                                 columns = 'month', \n",
    "                                                 aggfunc = 'mean').sort_index(ascending = False),\n",
    "                 cmap='Blues')"
   ]
  },
  {
   "cell_type": "markdown",
   "metadata": {},
   "source": [
    "#### 1.2.1 Cyclical (polar) features\n",
    "Temporal features are in fact cyclical in their nature so instead of applying them as one hot encoding we attemp a representation with polar cordinates. For each feature we represent its value $x$ as:\n",
    "$$x_{sin} = \\sin(\\frac{2*\\pi*x}{\\max(x)}) $$\n",
    "$$x_{cos} = \\cos(\\frac{2*\\pi*x}{\\max(x)}) $$"
   ]
  },
  {
   "cell_type": "code",
   "execution_count": null,
   "metadata": {},
   "outputs": [],
   "source": [
    "for col in cyclical_features:\n",
    "   # solar \n",
    "   agg_solar_energy_df['sin_%s' % col] = agg_solar_energy_df[col].apply(lambda x: np.sin((2 * np.pi * x)/agg_solar_energy_df[col].max()))\n",
    "   agg_solar_energy_df['cos_%s' % col] = agg_solar_energy_df[col].apply(lambda x: np.cos((2 * np.pi * x)/agg_solar_energy_df[col].max()))\n",
    "   # wind \n",
    "   agg_wind_energy_df['sin_%s' % col] = agg_wind_energy_df[col].apply(lambda x: np.sin((2 * np.pi * x)/agg_wind_energy_df[col].max()))\n",
    "   agg_wind_energy_df['cos_%s' % col] = agg_wind_energy_df[col].apply(lambda x: np.cos((2 * np.pi * x)/agg_wind_energy_df[col].max()))\n",
    "   "
   ]
  },
  {
   "cell_type": "markdown",
   "metadata": {},
   "source": [
    "#### 1.2.2 One-hot-encoded features\n",
    "One-hot-encoding is chosen for some of the features such as **season** and **year**"
   ]
  },
  {
   "cell_type": "code",
   "execution_count": null,
   "metadata": {},
   "outputs": [],
   "source": [
    "for col in one_hot_features:\n",
    "   agg_solar_energy_df[col] = agg_solar_energy_df[col].astype('category')\n",
    "   agg_wind_energy_df[col] = agg_wind_energy_df[col].astype('category')\n",
    "   \n",
    "# Preparing dummy columns\n",
    "agg_wind_energy_df = pd.get_dummies(agg_wind_energy_df)\n",
    "agg_solar_energy_df = pd.get_dummies(agg_solar_energy_df)"
   ]
  },
  {
   "cell_type": "markdown",
   "metadata": {},
   "source": [
    "#### 1.2.3 Last day's production as feature\n",
    "We add the energy production of the previous week as a feature. Along with weather variables according to the correlation exhibited below"
   ]
  },
  {
   "cell_type": "markdown",
   "metadata": {},
   "source": [
    "Calculate past week features:\n",
    "    * hourly energy generation of past week\n",
    "    * hourly weather variables of past week\n",
    "    * rolling statistics of energy generation for t-24h to t-72h for every 3 hours"
   ]
  },
  {
   "cell_type": "code",
   "execution_count": null,
   "metadata": {},
   "outputs": [],
   "source": [
    "# Get weather features from the past 3 days \n",
    "for h in range(1, 72, 2):\n",
    "   agg_solar_energy_df['t-%sh temp' % h] = agg_solar_energy_df['airTemperature'].shift(freq=timedelta(hours=h))\n",
    "   agg_solar_energy_df['t-%sh humidity' % h] = agg_solar_energy_df['humidity'].shift(freq=timedelta(hours=h))\n",
    "    \n",
    "   agg_wind_energy_df['t-%sh wind' % h] = agg_wind_energy_df['windSpeed'].shift(freq=timedelta(hours=h))\n",
    "   agg_wind_energy_df['t-%sh gust' % h] = agg_wind_energy_df['gust'].shift(freq=timedelta(hours=h))"
   ]
  },
  {
   "cell_type": "code",
   "execution_count": null,
   "metadata": {},
   "outputs": [],
   "source": [
    "# Get weather features a day ahead\n",
    "for h in range(1, 24, 2):\n",
    "   agg_solar_energy_df['t+%sh temp' % h] = agg_solar_energy_df['airTemperature'].shift(freq=timedelta(hours=-h))\n",
    "   agg_solar_energy_df['t+%sh humidity' % h] = agg_solar_energy_df['humidity'].shift(freq=timedelta(hours=-h))\n",
    "    \n",
    "   agg_wind_energy_df['t+%sh wind' % h] = agg_wind_energy_df['windSpeed'].shift(freq=timedelta(hours=-h))\n",
    "   agg_wind_energy_df['t+%sh gust' % h] = agg_wind_energy_df['gust'].shift(freq=timedelta(hours=-h))\n",
    "   "
   ]
  },
  {
   "cell_type": "code",
   "execution_count": null,
   "metadata": {},
   "outputs": [],
   "source": [
    "# Get energy data from 2 days (48h) before the target day to 1 week  (168h)\n",
    "for h in range(48, 168):\n",
    "   agg_solar_energy_df['t-%sh energy' % h] = agg_solar_energy_df['Solar energy (MW)'].shift(freq=timedelta(hours=h))\n",
    "   agg_wind_energy_df['t-%sh energy' % h] = agg_wind_energy_df['Wind energy (MW)'].shift(freq=timedelta(hours=h))\n"
   ]
  },
  {
   "cell_type": "code",
   "execution_count": null,
   "metadata": {},
   "outputs": [],
   "source": [
    "# Get energy statistics from 48-96 hours before the target day\n",
    "for h in range(48, 96, 6):    \n",
    "   agg_solar_energy_df.loc[:, 'rolling_max_energy_%sh_win' % h] = agg_solar_energy_df['Solar energy (MW)'].rolling(window='%sH' % h).max()\n",
    "   agg_solar_energy_df.loc[:, 'rolling_min_energy_%sh_win' % h] = agg_solar_energy_df['Solar energy (MW)'].rolling(window='%sH' % h).min()\n",
    "   agg_solar_energy_df.loc[:, 'rolling_mean_energy_%sh_win' % h] = agg_solar_energy_df['Solar energy (MW)'].rolling(window='%sH' % h).mean()\n",
    "   agg_solar_energy_df.loc[:, 'rolling_var_energy_%sh_win' % h] = agg_solar_energy_df['Solar energy (MW)'].rolling(window='%sH' % h).var()\n",
    "   agg_solar_energy_df.loc[:, 'rolling_std_energy_%sh_win' % h] = agg_solar_energy_df['Solar energy (MW)'].rolling(window='%sH' % h).std()\n",
    "   agg_solar_energy_df.loc[:, 'rolling_skew_energy_%sh_win' % h] = agg_solar_energy_df['Solar energy (MW)'].rolling(window='%sH' % h).skew()\n",
    "\n",
    "   agg_wind_energy_df.loc[:, 'rolling_max_energy_%sh_win' % h] = agg_wind_energy_df['Wind energy (MW)'].rolling(window='%sH' % h).max()\n",
    "   agg_wind_energy_df.loc[:, 'rolling_min_energy_%sh_win' % h] = agg_wind_energy_df['Wind energy (MW)'].rolling(window='%sH' % h).min()\n",
    "   agg_wind_energy_df.loc[:, 'rolling_mean_energy_%sh_win' % h] = agg_wind_energy_df['Wind energy (MW)'].rolling(window='%sH' % h).mean()\n",
    "   agg_wind_energy_df.loc[:, 'rolling_var_energy_%sh_win' % h] = agg_wind_energy_df['Wind energy (MW)'].rolling(window='%sH' % h).var()\n",
    "   agg_wind_energy_df.loc[:, 'rolling_std_energy_%sh_win' % h] = agg_wind_energy_df['Wind energy (MW)'].rolling(window='%sH' % h).std()\n",
    "   agg_wind_energy_df.loc[:, 'rolling_skew_energy_%sh_win' % h] = agg_wind_energy_df['Wind energy (MW)'].rolling(window='%sH' % h).skew()\n"
   ]
  },
  {
   "cell_type": "code",
   "execution_count": null,
   "metadata": {},
   "outputs": [],
   "source": [
    "# Get next week power output\n",
    "for h in range(168):\n",
    "   agg_solar_energy_df['t+%sh energy' % h] = agg_solar_energy_df['Solar energy (MW)'].shift(freq=timedelta(hours=-h))\n",
    "   agg_wind_energy_df['t+%sh energy' % h] = agg_wind_energy_df['Wind energy (MW)'].shift(freq=timedelta(hours=-h))\n",
    "\n",
    "agg_solar_energy_df.drop(columns='Solar energy (MW)', inplace=True)\n",
    "agg_wind_energy_df.drop(columns='Wind energy (MW)', inplace=True)\n"
   ]
  },
  {
   "cell_type": "markdown",
   "metadata": {},
   "source": [
    "#### Scale energy and weather features with MinMaxScaler and drop redundant features"
   ]
  },
  {
   "cell_type": "code",
   "execution_count": null,
   "metadata": {},
   "outputs": [],
   "source": [
    "# Drop excess rows\n",
    "agg_solar_energy_df.dropna(inplace=True)\n",
    "agg_wind_energy_df.dropna(inplace=True)\n",
    "\n",
    "print('Data size before feature selection', agg_solar_energy_df.shape, agg_wind_energy_df.shape)"
   ]
  },
  {
   "cell_type": "markdown",
   "metadata": {},
   "source": [
    "#### Scaling data"
   ]
  },
  {
   "cell_type": "code",
   "execution_count": null,
   "metadata": {},
   "outputs": [],
   "source": [
    "selected_wind = weather_features + agg_wind_energy_df.filter(like='energy').columns.tolist()\n",
    "selected_solar = weather_features + agg_solar_energy_df.filter(like='energy').columns.tolist()\n",
    "\n",
    "# Scaling\n",
    "agg_wind_energy_df.loc[:, selected_wind] = MinMaxScaler().fit_transform(agg_wind_energy_df[selected_wind].values)\n",
    "agg_solar_energy_df.loc[:, selected_solar] = MinMaxScaler().fit_transform(agg_solar_energy_df[selected_solar].values)\n",
    "\n",
    "# Drop extra features\n",
    "agg_wind_energy_df.drop(columns=cyclical_features, inplace=True)\n",
    "agg_solar_energy_df.drop(columns=cyclical_features, inplace=True)"
   ]
  },
  {
   "cell_type": "markdown",
   "metadata": {},
   "source": [
    "**Selected features:**"
   ]
  },
  {
   "cell_type": "code",
   "execution_count": null,
   "metadata": {},
   "outputs": [],
   "source": [
    "print(agg_wind_energy_df.shape)\n",
    "print(agg_solar_energy_df.shape)"
   ]
  },
  {
   "cell_type": "markdown",
   "metadata": {},
   "source": [
    "## 2. Data split\n",
    "\n",
    "We split the data for the different models that will be trained later:\n",
    "   * Hour ahead split: hour ahead prediction model\n",
    "   * Day ahead split: day ahed prediction\n",
    "   * Week ahead split: week ahead prediction\n",
    "\n",
    "### 2.1  1-step-ahead\n",
    "\n",
    "Split the 4 year dataset in 3 years training and one year testing set. The years 2017-2019 will be used as train and the last year 2020 will be used for predictions."
   ]
  },
  {
   "cell_type": "code",
   "execution_count": null,
   "metadata": {},
   "outputs": [],
   "source": [
    "def select_features(data_dest_dir, filename_train, filename_test, train_data, test_data, selection_model, target_variable):\n",
    "   # Create export directory\n",
    "   if not os.path.exists(data_dest_dir):      \n",
    "      os.makedirs(data_dest_dir)\n",
    "\n",
    "   start = datetime.now()\n",
    "   print('Feature selection...')\n",
    "   final_features = data_eval.final_feature_selection(model, \n",
    "                                                       train_data.drop(columns=target_variable), \n",
    "                                                       train_data.loc[:, target_variable])\n",
    "   final_features += target_variable\n",
    "   print('Finished feature selection in %s' % str(datetime.now()-start)) \n",
    "   print('Saving wind feature selection')\n",
    "   train_data[final_features].to_csv(os.path.join(data_dest_dir, filename_train))   \n",
    "   test_data[final_features].to_csv(os.path.join(data_dest_dir, filename_test))\n",
    "\n",
    "   print('Data: \\nFeatures: %s\\ntrain: %s\\ntest: %s\\n' %    (train_data[final_features].columns,\n",
    "                                                            train_data[final_features].shape, \n",
    "                                                            test_data[final_features].shape))\n",
    "   return train_data[final_features], test_data[final_features]"
   ]
  },
  {
   "cell_type": "markdown",
   "metadata": {},
   "source": [
    "From all past week features choose the rolling and lag features from 48h up to 96 hours ago"
   ]
  },
  {
   "cell_type": "code",
   "execution_count": null,
   "metadata": {},
   "outputs": [],
   "source": [
    "# Define target variable and ignore the other look ahead features\n",
    "target_variable = agg_wind_energy_df.filter(regex='t\\+.+ energy').columns.tolist()[:1]\n",
    "all_target_variables = agg_wind_energy_df.filter(regex='t\\+.+ energy').columns.tolist()\n",
    "redundant_target_variables = [var for var in all_target_variables if var not in target_variable]\n",
    "# filter out excess features\n",
    "all_extra_features = agg_wind_energy_df.filter(regex='t\\-|rolling').columns.tolist()\n",
    "lag_weather = ['t-%sh %s' % (h,w) for h in range(24) for w in ['gust', 'wind']]\n",
    "lag_energy = ['t-%sh energy' % h for h in range(48, 96)]\n",
    "rolling_features = agg_wind_energy_df.filter(regex='rolling.+').columns.tolist()\n",
    "\n",
    "redundant_variables = [var for var in all_extra_features if var not in lag_weather + lag_energy + rolling_features]\n",
    "\n",
    "\n",
    "# Create export directory\n",
    "data_dest_dir = os.path.join('resources', 'forecasting_data', '1-step-ahead')\n",
    "if not os.path.exists(data_dest_dir):      \n",
    "    os.makedirs(data_dest_dir)\n",
    "\n",
    "# Train split\n",
    "train_data = agg_wind_energy_df.loc['2017':'2019'].copy()\n",
    "train_data.drop(columns=redundant_target_variables + redundant_variables, inplace=True)\n",
    "# Test split\n",
    "test_data = agg_wind_energy_df.loc['2020'].copy()\n",
    "test_data.drop(columns=redundant_target_variables + redundant_variables, inplace=True)\n",
    "\n",
    "model = Ridge(normalize = True, tol=1e-5)     \n",
    "# model = xgb.XGBRegressor()\n",
    "\n",
    "train_data, test_data = select_features(data_dest_dir, \n",
    "                                     'wind_train_hour.csv', \n",
    "                                     'wind_test_hour.csv', \n",
    "                                     train_data, \n",
    "                                     test_data,\n",
    "                                     model, \n",
    "                                     target_variable)\n",
    "\n",
    "\n",
    "###################################3\n",
    "\n",
    "## Solar dataset\n",
    "# Define target variable and ignore the other look ahead features\n",
    "target_variable = agg_solar_energy_df.filter(regex='t\\+.+ energy').columns.tolist()[:1]\n",
    "all_target_variables = agg_solar_energy_df.filter(regex='t\\+.+ energy').columns.tolist()\n",
    "redundant_target_variables = [var for var in all_target_variables if var not in target_variable]\n",
    "# filter out excess features\n",
    "all_extra_features = agg_solar_energy_df.filter(regex='t\\-|rolling').columns.tolist()\n",
    "lag_weather = ['t-%sh %s' % (h,w) for h in range(24) for w in ['temp', 'humidity']]\n",
    "lag_energy = ['t-%sh energy' % h for h in range(48, 96)]\n",
    "rolling_features = agg_solar_energy_df.filter(regex='rolling.+').columns.tolist()\n",
    "\n",
    "redundant_variables = [var for var in all_extra_features if var not in lag_weather + lag_energy + rolling_features]\n",
    "\n",
    "# Train split\n",
    "train_data = agg_solar_energy_df.loc['2017':'2019'].copy()\n",
    "train_data.drop(columns=redundant_target_variables + redundant_variables, inplace=True)\n",
    "\n",
    "# Test split\n",
    "test_data = agg_solar_energy_df.loc['2020'].copy()\n",
    "test_data.drop(columns=redundant_target_variables + redundant_variables, inplace=True)\n",
    "\n",
    "model = Ridge(normalize = True, tol=1e-5)     \n",
    "# model = xgb.XGBRegressor()\n",
    "train_data, test_data = select_features(data_dest_dir, \n",
    "                                        'solar_train_hour.csv', \n",
    "                                        'solar_test_hour.csv', \n",
    "                                        train_data, \n",
    "                                        test_data,\n",
    "                                        model, \n",
    "                                        target_variable)\n"
   ]
  },
  {
   "cell_type": "code",
   "execution_count": null,
   "metadata": {},
   "outputs": [],
   "source": []
  }
 ],
 "metadata": {
  "kernelspec": {
   "display_name": "Python 3",
   "language": "python",
   "name": "python3"
  },
  "language_info": {
   "codemirror_mode": {
    "name": "ipython",
    "version": 3
   },
   "file_extension": ".py",
   "mimetype": "text/x-python",
   "name": "python",
   "nbconvert_exporter": "python",
   "pygments_lexer": "ipython3",
   "version": "3.9.16"
  }
 },
 "nbformat": 4,
 "nbformat_minor": 4
}
