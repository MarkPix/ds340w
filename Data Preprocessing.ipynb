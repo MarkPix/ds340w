{
 "cells": [
  {
   "cell_type": "markdown",
   "metadata": {},
   "source": [
    "# RES Forecasting - Data Presentation"
   ]
  },
  {
   "cell_type": "markdown",
   "metadata": {},
   "source": [
    "The Greek RES dataset combines information from different sources. It contains geolocation, weather and RES energy production data of the top contributors of wind and solar energy that contribute the 20% of the RES power in the Greek energy grid. The weather data were collected from a weather forecast API and represent the last generated forecast for each installation.\n",
    "\n",
    "The data were collected from the following sources:\n",
    "\n",
    "* RES energy production from [ENTSO-E](https://transparency.entsoe.eu/load-domain/r2/totalLoadR2/show)\n",
    "* Weather data captured using the [Stormglass API](https://docs.stormglass.io/#/weather?id=point-request)\n",
    "* Wind turbine and PV installations geolocation data, for the locations that aquired operation licence as found in [Regulatory Authority for Energy (RAE)](https://geo.rae.gr/)\n",
    "\n",
    "More information regarding energy licencing http://www.opengov.gr/minenv/?p=1031\n",
    "\n",
    "---\n",
    "\n",
    "**NOTE:** This notebook presents the process of the combination of the different types of data "
   ]
  },
  {
   "cell_type": "code",
   "execution_count": null,
   "metadata": {},
   "outputs": [],
   "source": [
    "import json\n",
    "import pandas as pd\n",
    "from datetime import timedelta, datetime\n",
    "import os\n",
    "import numpy as np\n",
    "import re\n",
    "import seaborn as sns\n",
    "from tqdm import tqdm\n"
   ]
  },
  {
   "cell_type": "markdown",
   "metadata": {},
   "source": [
    "## 1. Location data"
   ]
  },
  {
   "cell_type": "markdown",
   "metadata": {},
   "source": [
    "Import the location data that contains the latitude and longtitude information of the most significant wind and solar power generation stations in Greece.\n",
    "* id: location ID\n",
    "* lon: longtitude\n",
    "* lat: latidute\n",
    "* type: energy type {wind, solar}\n"
   ]
  },
  {
   "cell_type": "code",
   "execution_count": null,
   "metadata": {},
   "outputs": [],
   "source": [
    "location_df = pd.read_csv(os.path.join('resources', 'location_data.csv'), index_col=0)\n",
    "location_df"
   ]
  },
  {
   "cell_type": "markdown",
   "metadata": {},
   "source": [
    "## 2. Weather data\n",
    "\n",
    "The location information should be used to collect weather data for the respective locations, that will be used to compile an aggregated weather dataset with the average values of the selected weather variables for the period of interest.\n",
    "\n",
    "The most relevant weather variables captured by the [Stormglass API](https://docs.stormglass.io/#/weather?id=point-request) are the following:\n",
    "\n",
    "\n",
    "| Time \t| Location \t|     Temperature    \t|     Solar    \t|        Wind       \t|      Misc     \t|\n",
    "|:----:\t|:--------:\t|:------------------:\t|:------------:\t|:-----------------:\t|:-------------:\t|\n",
    "| time \t| id1      \t| airTemperature     \t| cloudCover   \t| windDirection     \t| gust          \t|\n",
    "|      \t| lat      \t| airTemperature80m  \t| currentSpeed \t| windDirection20m  \t| precipitation \t|\n",
    "|      \t| lon      \t| airTemperature100m \t| visibility   \t| windDirection30m  \t| humidity      \t|\n",
    "|      \t|          \t|                    \t|              \t| windDirection40m  \t| pressure      \t|\n",
    "|      \t|          \t|                    \t|              \t| windDirection50m  \t|               \t|\n",
    "|      \t|          \t|                    \t|              \t| windDirection80m  \t|               \t|\n",
    "|      \t|          \t|                    \t|              \t| windDirection100m \t|               \t|\n",
    "|      \t|          \t|                    \t|              \t| windSpeed         \t|               \t|\n",
    "|      \t|          \t|                    \t|              \t| windSpeed100m     \t|               \t|\n",
    "|      \t|          \t|                    \t|              \t| windSpeed20m      \t|               \t|\n",
    "|      \t|          \t|                    \t|              \t| windSpeed30m      \t|               \t|\n",
    "|      \t|          \t|                    \t|              \t| windSpeed40m      \t|               \t|\n",
    "|      \t|          \t|                    \t|              \t| windSpeed50m      \t|               \t|\n",
    "|      \t|          \t|                    \t|              \t| windSpeed80m      \t|               \t|\n",
    "\n",
    "\n",
    "More information on the weather variable can be found in the [Stormglass API Documentation](https://docs.stormglass.io/#/weather?id=point-request)\n",
    "\n",
    "Lets load the combined historical weather data for all designated locations:"
   ]
  },
  {
   "cell_type": "code",
   "execution_count": null,
   "metadata": {},
   "outputs": [],
   "source": [
    "weather_df = pd.read_csv('resources/raw_data/weather_data/historic_weather_data.20170101-20210102.csv', \n",
    "                         index_col=0,\n",
    "                         parse_dates=['time'])\n",
    "weather_df"
   ]
  },
  {
   "cell_type": "markdown",
   "metadata": {},
   "source": [
    "Data preprocessing methods"
   ]
  },
  {
   "cell_type": "code",
   "execution_count": null,
   "metadata": {},
   "outputs": [],
   "source": [
    "def set_na_values(df):\n",
    "   '''\n",
    "   Sets unfilled values or certain string as NA.\n",
    "   '''\n",
    "   return df.replace(to_replace={'n/e': np.nan, '-': np.nan})\n",
    "\n",
    "def drop_na_values(df):\n",
    "   '''\n",
    "   Drops columns with less than 80% non-NA values\n",
    "   '''\n",
    "   return df.dropna(axis=1, thresh=int(len(df) * 0.8))\n",
    "    \n",
    "def drop_column(df, columns):\n",
    "   return df.drop(columns=columns)\n",
    "\n",
    "def set_time(df):\n",
    "   df['time'] = pd.to_datetime(df['MTU'].str.split('-', expand=True)[0].str.strip())\n",
    "   df.loc[:, 'time'] = df['time'].dt.tz_localize('CET', nonexistent=timedelta(hours=1), ambiguous=False)\n",
    "   df.drop(columns=['MTU'], inplace=True)\n",
    "   df.reset_index(inplace=True)\n",
    "   df.drop(columns='index', inplace=True)\n",
    "   return df\n",
    "\n",
    "def to_numeric(df):\n",
    "   '''\n",
    "   Convert data to numeric.\n",
    "   '''\n",
    "   for col in set(df.columns) - set(['time']):\n",
    "      df.loc[:, col] = pd.to_numeric(df[col])   \n",
    "   return df\n",
    "\n",
    "def na_fill(df, column):\n",
    "   '''\n",
    "   Fills missing values of the input column with the values of similar past days.\n",
    "   '''\n",
    "   na_dates = sorted(set(df.loc[df[column].isna()].index.date))\n",
    "   for day in na_dates:\n",
    "      orig_day_range = pd.date_range(start=floor_date(day), end=ceil_date(day), freq='H', tz='CET')\n",
    "      similar_days = [day.replace(year=year) for year in list(set(df.index.year) - set([day.year]))]\n",
    "      _df_list = []\n",
    "      for sim_day in similar_days:\n",
    "         day_range = pd.date_range(start=floor_date(sim_day), end=ceil_date(sim_day), freq='H', tz='CET')\n",
    "         _df_list.append(df.loc[df.index.isin(day_range), column])\n",
    "      _df = pd.concat(_df_list).to_frame()\n",
    "      _df['hour'] = _df.index.time\n",
    "      df.loc[df.index.isin(orig_day_range), column] = _df.groupby('hour').mean().values[:len(df[df.index.isin(orig_day_range)])]\n",
    "   return df\n",
    "\n",
    "def floor_date(date):\n",
    "   '''\n",
    "   Round date to the start of the day.\n",
    "   '''\n",
    "   date = pd.to_datetime(date)\n",
    "   return date - timedelta(hours=date.time().hour, \n",
    "                         minutes=date.time().minute, \n",
    "                         seconds=date.time().second, \n",
    "                         microseconds=date.time().microsecond)\n",
    "\n",
    "def ceil_date(date):\n",
    "   '''\n",
    "   Round date to the end of the day.\n",
    "   '''\n",
    "   date = floor_date(date)   \n",
    "   return date + timedelta(hours=23)"
   ]
  },
  {
   "cell_type": "markdown",
   "metadata": {},
   "source": [
    "### 2.1 Wind weather data preprocessing\n",
    "\n",
    "Wind weather data preprocessing:"
   ]
  },
  {
   "cell_type": "code",
   "execution_count": null,
   "metadata": {},
   "outputs": [],
   "source": [
    "wind_energy_df = weather_df.query('energy_type==\\\"wind\\\"').copy()\n",
    "wind_energy_df.shape"
   ]
  },
  {
   "cell_type": "code",
   "execution_count": null,
   "metadata": {},
   "outputs": [],
   "source": [
    "wind_energy_df = wind_energy_df.pipe(drop_na_values)\n",
    "wind_energy_df.shape"
   ]
  },
  {
   "cell_type": "code",
   "execution_count": null,
   "metadata": {},
   "outputs": [],
   "source": [
    "na_value_columns = [column for column in wind_energy_df.columns if wind_energy_df[column].isna().sum() > 0]\n",
    "\n",
    "for column in na_value_columns:\n",
    "   print(column)\n",
    "   progressbar = tqdm(wind_energy_df.index.unique(), desc='Processing')\n",
    "\n",
    "   for i in progressbar:\n",
    "      progressbar.set_description('Processing location ID: %s' % i)\n",
    "      df = wind_energy_df.loc[i].set_index('time')\n",
    "      df = df.pipe(na_fill, column)\n",
    "      \n",
    "wind_energy_df.shape"
   ]
  },
  {
   "cell_type": "code",
   "execution_count": null,
   "metadata": {},
   "outputs": [],
   "source": [
    "wind_energy_df = wind_energy_df.groupby('time').mean()\n",
    "wind_energy_df.head()"
   ]
  },
  {
   "cell_type": "markdown",
   "metadata": {},
   "source": [
    "### 2.1 Solar weather data preprocessing\n",
    "\n",
    "Solar weather data preprocessing:"
   ]
  },
  {
   "cell_type": "code",
   "execution_count": null,
   "metadata": {},
   "outputs": [],
   "source": [
    "solar_energy_df = weather_df.query('energy_type==\\\"solar\\\"').copy()\n",
    "solar_energy_df.shape"
   ]
  },
  {
   "cell_type": "code",
   "execution_count": null,
   "metadata": {},
   "outputs": [],
   "source": [
    "solar_energy_df = solar_energy_df.pipe(drop_na_values)\n",
    "solar_energy_df.shape"
   ]
  },
  {
   "cell_type": "code",
   "execution_count": null,
   "metadata": {},
   "outputs": [],
   "source": [
    "na_value_columns = [column for column in solar_energy_df.columns if solar_energy_df[column].isna().sum() > 0]\n",
    "\n",
    "for column in na_value_columns:\n",
    "   print(column)\n",
    "   progressbar = tqdm(solar_energy_df.index.unique(), desc='Processing')\n",
    "\n",
    "   for i in progressbar:\n",
    "      progressbar.set_description('Processing location ID: %s' % i)\n",
    "      df = solar_energy_df.loc[i].set_index('time')\n",
    "      df = df.pipe(na_fill, column)\n",
    "      \n",
    "solar_energy_df.shape"
   ]
  },
  {
   "cell_type": "code",
   "execution_count": null,
   "metadata": {},
   "outputs": [],
   "source": [
    "solar_energy_df = solar_energy_df.groupby('time').mean()\n",
    "solar_energy_df.head()"
   ]
  },
  {
   "cell_type": "markdown",
   "metadata": {},
   "source": [
    "## 3. Energy data\n",
    "### 3.1 Energy data loading\n",
    "\n",
    "Actual energy output data, at hourly intervals aggregated per energy type, were collected by the European Network of Transmission System Operators for Electricity ([ENTSO-E](https://transparency.entsoe.eu/load-domain/r2/totalLoadR2/show)), that represents 42 electricity transmission system operators (TSOs) from 35 countries across Europe."
   ]
  },
  {
   "cell_type": "code",
   "execution_count": null,
   "metadata": {},
   "outputs": [],
   "source": [
    "energy_data_dir = os.path.join('resources/raw_data/', 'ENTSOE_data')\n",
    "\n",
    "# Combine all energy data in the directory \n",
    "energy_df = pd.concat([pd.read_csv(os.path.join(energy_data_dir, csv), \n",
    "                                   parse_dates=['MTU']) for csv in os.listdir(energy_data_dir)])\n",
    "print(energy_df.shape)\n",
    "energy_df.head()"
   ]
  },
  {
   "cell_type": "code",
   "execution_count": null,
   "metadata": {},
   "outputs": [],
   "source": [
    "# Preprocessing\n",
    "energy_df = (energy_df.pipe(set_na_values) # Define NA values\n",
    "                      # Parse time column\n",
    "                      .pipe(set_time) \n",
    "                      # Drop irrelevant columns\n",
    "                      .pipe(drop_column, ['Area'] + list(set(energy_df.filter(regex='.+Actual.+').columns) \n",
    "                                                        - set(energy_df.filter(like='Wind').columns) \n",
    "                                                        - set(energy_df.filter(like='Solar').columns)))\n",
    "                      # Drop NA values\n",
    "                      .pipe(drop_na_values)\n",
    "                      # \n",
    "                      .pipe(to_numeric))\n",
    "energy_df.tail()"
   ]
  },
  {
   "cell_type": "code",
   "execution_count": null,
   "metadata": {},
   "outputs": [],
   "source": [
    "energy_df = energy_df.set_index('time').sort_index().rename(columns={energy_df.columns[0]: 'solar power', \n",
    "                                                                     energy_df.columns[1]: 'wind power'})\n",
    "energy_df.tail()"
   ]
  },
  {
   "cell_type": "markdown",
   "metadata": {},
   "source": [
    "## 3.2 Align data according to time\n",
    "\n",
    "Weather data are captrured at `UTC` timezone whereas the energy data are at the local `CET` timezone, thus the weather data are translated to `CET` time. Moreover, time missalignment in the datasets, caused due to DST time changes should be handled."
   ]
  },
  {
   "cell_type": "code",
   "execution_count": null,
   "metadata": {},
   "outputs": [],
   "source": [
    "energy_df.index = energy_df.index.tz_convert('CET')\n",
    "energy_df.tail()"
   ]
  },
  {
   "cell_type": "code",
   "execution_count": null,
   "metadata": {},
   "outputs": [],
   "source": [
    "solar_energy_df.index = solar_energy_df.index.tz_convert('CET')\n",
    "solar_energy_df.tail()"
   ]
  },
  {
   "cell_type": "code",
   "execution_count": null,
   "metadata": {},
   "outputs": [],
   "source": [
    "wind_energy_df.index = wind_energy_df.index.tz_convert('CET')\n",
    "wind_energy_df.tail()"
   ]
  },
  {
   "cell_type": "markdown",
   "metadata": {},
   "source": [
    "Define start and end period"
   ]
  },
  {
   "cell_type": "code",
   "execution_count": null,
   "metadata": {},
   "outputs": [],
   "source": [
    "period_start = max(energy_df.index[0], \n",
    "                   solar_energy_df.index[0], \n",
    "                   wind_energy_df.index[0])\n",
    "period_end = min(energy_df.index[-1], \n",
    "                    solar_energy_df.index[-1], \n",
    "                    wind_energy_df.index[-1])\n",
    "period_start, period_end"
   ]
  },
  {
   "cell_type": "markdown",
   "metadata": {},
   "source": [
    "Trim data according to start and end of the period"
   ]
  },
  {
   "cell_type": "code",
   "execution_count": null,
   "metadata": {},
   "outputs": [],
   "source": [
    "energy_df = energy_df[(period_start < energy_df.index) & \n",
    "                      (energy_df.index < period_end)]\n",
    "energy_df.head()"
   ]
  },
  {
   "cell_type": "code",
   "execution_count": null,
   "metadata": {},
   "outputs": [],
   "source": [
    "solar_energy_df = solar_energy_df[(period_start < solar_energy_df.index) & \n",
    "                                  (solar_energy_df.index < period_end)]\n",
    "solar_energy_df.head()"
   ]
  },
  {
   "cell_type": "code",
   "execution_count": null,
   "metadata": {},
   "outputs": [],
   "source": [
    "wind_energy_df = wind_energy_df[(period_start < wind_energy_df.index) & \n",
    "                                  (wind_energy_df.index < period_end)]\n",
    "wind_energy_df.head()"
   ]
  },
  {
   "cell_type": "markdown",
   "metadata": {},
   "source": [
    "Resample data at hourly intervals"
   ]
  },
  {
   "cell_type": "code",
   "execution_count": null,
   "metadata": {},
   "outputs": [],
   "source": [
    "energy_df = energy_df.resample('1h').mean()\n",
    "solar_energy_df = solar_energy_df.resample('1h').mean()\n",
    "wind_energy_df = wind_energy_df.resample('1h').mean()"
   ]
  },
  {
   "cell_type": "markdown",
   "metadata": {},
   "source": [
    "## 3.3 Wind energy dataset preperation"
   ]
  },
  {
   "cell_type": "code",
   "execution_count": null,
   "metadata": {},
   "outputs": [],
   "source": [
    "wind_power_df = pd.concat([wind_energy_df, energy_df['wind power'].to_frame()], axis=1)\n",
    "wind_power_df = wind_power_df.interpolate(method='pad')\n",
    "wind_power_df.head()"
   ]
  },
  {
   "cell_type": "markdown",
   "metadata": {},
   "source": [
    "## 3.3 Solar energy dataset preperation"
   ]
  },
  {
   "cell_type": "code",
   "execution_count": null,
   "metadata": {},
   "outputs": [],
   "source": [
    "solar_power_df = pd.concat([solar_energy_df, energy_df['solar power'].to_frame()], axis=1)\n",
    "solar_power_df = solar_power_df.interpolate(method='pad')\n",
    "solar_power_df.head()"
   ]
  },
  {
   "cell_type": "code",
   "execution_count": null,
   "metadata": {},
   "outputs": [],
   "source": [
    "processed_data_dir = os.path.join('resources', 'processed_data')\n",
    "\n",
    "if not os.path.exists(processed_data_dir):\n",
    "   os.mkdir(processed_data_dir)\n",
    "\n",
    "wind_power_df.to_csv(os.path.join(processed_data_dir, 'wind_energy_w_forecast.csv')) \n",
    "solar_power_df.to_csv(os.path.join(processed_data_dir, 'solar_energy_w_forecast.csv'))"
   ]
  }
 ],
 "metadata": {
  "kernelspec": {
   "display_name": "Python 3",
   "language": "python",
   "name": "python3"
  },
  "language_info": {
   "codemirror_mode": {
    "name": "ipython",
    "version": 3
   },
   "file_extension": ".py",
   "mimetype": "text/x-python",
   "name": "python",
   "nbconvert_exporter": "python",
   "pygments_lexer": "ipython3",
   "version": "3.9.16"
  }
 },
 "nbformat": 4,
 "nbformat_minor": 4
}
